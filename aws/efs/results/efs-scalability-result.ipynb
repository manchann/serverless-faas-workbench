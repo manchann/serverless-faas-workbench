{
 "cells": [
  {
   "cell_type": "code",
   "execution_count": 205,
   "metadata": {},
   "outputs": [],
   "source": [
    "import pandas as pd\n",
    "import numpy as np\n",
    "import matplotlib.pyplot as plt"
   ]
  },
  {
   "cell_type": "raw",
   "metadata": {},
   "source": []
  },
  {
   "cell_type": "code",
   "execution_count": 262,
   "metadata": {
    "scrolled": true
   },
   "outputs": [],
   "source": [
    "df_2048 = pd.read_csv('efs-scalability-2048.csv')\n",
    "df_2048_2 = pd.read_csv('efs-scalability-2048-2.csv')\n",
    "df_512 = pd.read_csv('efs-scalability-512.csv')\n",
    "df_512_2 = pd.read_csv('efs-scalability-512-2.csv')"
   ]
  },
  {
   "cell_type": "code",
   "execution_count": 263,
   "metadata": {
    "scrolled": true
   },
   "outputs": [
    {
     "data": {
      "text/html": [
       "<div>\n",
       "<style scoped>\n",
       "    .dataframe tbody tr th:only-of-type {\n",
       "        vertical-align: middle;\n",
       "    }\n",
       "\n",
       "    .dataframe tbody tr th {\n",
       "        vertical-align: top;\n",
       "    }\n",
       "\n",
       "    .dataframe thead th {\n",
       "        text-align: right;\n",
       "    }\n",
       "</style>\n",
       "<table border=\"1\" class=\"dataframe\">\n",
       "  <thead>\n",
       "    <tr style=\"text-align: right;\">\n",
       "      <th></th>\n",
       "      <th>second_type/S</th>\n",
       "      <th>disk_read_bandwidth/N</th>\n",
       "      <th>disk_read_latency/N</th>\n",
       "      <th>third_type/S</th>\n",
       "      <th>fs/S</th>\n",
       "      <th>bs/S</th>\n",
       "      <th>test/S</th>\n",
       "      <th>type/S</th>\n",
       "      <th>id/N</th>\n",
       "      <th>count/S</th>\n",
       "      <th>latency/N</th>\n",
       "      <th>result/S</th>\n",
       "    </tr>\n",
       "  </thead>\n",
       "  <tbody>\n",
       "    <tr>\n",
       "      <th>0</th>\n",
       "      <td>sequence</td>\n",
       "      <td>1.018620</td>\n",
       "      <td>196.344131</td>\n",
       "      <td>read</td>\n",
       "      <td>200MB</td>\n",
       "      <td>1024KB</td>\n",
       "      <td>efs_strong100</td>\n",
       "      <td>efs</td>\n",
       "      <td>1.596427e+09</td>\n",
       "      <td>NaN</td>\n",
       "      <td>NaN</td>\n",
       "      <td>NaN</td>\n",
       "    </tr>\n",
       "    <tr>\n",
       "      <th>1</th>\n",
       "      <td>dd</td>\n",
       "      <td>NaN</td>\n",
       "      <td>NaN</td>\n",
       "      <td>NaN</td>\n",
       "      <td>NaN</td>\n",
       "      <td>1024KB</td>\n",
       "      <td>efs_strong200</td>\n",
       "      <td>efs</td>\n",
       "      <td>1.596429e+09</td>\n",
       "      <td>200.0</td>\n",
       "      <td>405.402032</td>\n",
       "      <td>209715200 bytes (210 MB) copied, 405.34 s, 517...</td>\n",
       "    </tr>\n",
       "    <tr>\n",
       "      <th>2</th>\n",
       "      <td>random</td>\n",
       "      <td>0.502864</td>\n",
       "      <td>397.721871</td>\n",
       "      <td>read</td>\n",
       "      <td>200MB</td>\n",
       "      <td>1024KB</td>\n",
       "      <td>efs_strong200</td>\n",
       "      <td>efs</td>\n",
       "      <td>1.596426e+09</td>\n",
       "      <td>NaN</td>\n",
       "      <td>NaN</td>\n",
       "      <td>NaN</td>\n",
       "    </tr>\n",
       "    <tr>\n",
       "      <th>3</th>\n",
       "      <td>random</td>\n",
       "      <td>0.505213</td>\n",
       "      <td>395.872552</td>\n",
       "      <td>read</td>\n",
       "      <td>200MB</td>\n",
       "      <td>1024KB</td>\n",
       "      <td>efs_strong200</td>\n",
       "      <td>efs</td>\n",
       "      <td>1.596426e+09</td>\n",
       "      <td>NaN</td>\n",
       "      <td>NaN</td>\n",
       "      <td>NaN</td>\n",
       "    </tr>\n",
       "    <tr>\n",
       "      <th>4</th>\n",
       "      <td>sequence</td>\n",
       "      <td>0.488547</td>\n",
       "      <td>409.377037</td>\n",
       "      <td>read</td>\n",
       "      <td>200MB</td>\n",
       "      <td>1024KB</td>\n",
       "      <td>efs_strong200</td>\n",
       "      <td>efs</td>\n",
       "      <td>1.596428e+09</td>\n",
       "      <td>NaN</td>\n",
       "      <td>NaN</td>\n",
       "      <td>NaN</td>\n",
       "    </tr>\n",
       "    <tr>\n",
       "      <th>...</th>\n",
       "      <td>...</td>\n",
       "      <td>...</td>\n",
       "      <td>...</td>\n",
       "      <td>...</td>\n",
       "      <td>...</td>\n",
       "      <td>...</td>\n",
       "      <td>...</td>\n",
       "      <td>...</td>\n",
       "      <td>...</td>\n",
       "      <td>...</td>\n",
       "      <td>...</td>\n",
       "      <td>...</td>\n",
       "    </tr>\n",
       "    <tr>\n",
       "      <th>1138</th>\n",
       "      <td>sequence</td>\n",
       "      <td>2.473497</td>\n",
       "      <td>80.857169</td>\n",
       "      <td>read</td>\n",
       "      <td>200MB</td>\n",
       "      <td>1024KB</td>\n",
       "      <td>efs_strong50</td>\n",
       "      <td>efs</td>\n",
       "      <td>1.596427e+09</td>\n",
       "      <td>NaN</td>\n",
       "      <td>NaN</td>\n",
       "      <td>NaN</td>\n",
       "    </tr>\n",
       "    <tr>\n",
       "      <th>1139</th>\n",
       "      <td>random</td>\n",
       "      <td>0.504747</td>\n",
       "      <td>396.238407</td>\n",
       "      <td>read</td>\n",
       "      <td>200MB</td>\n",
       "      <td>1024KB</td>\n",
       "      <td>efs_strong200</td>\n",
       "      <td>efs</td>\n",
       "      <td>1.596426e+09</td>\n",
       "      <td>NaN</td>\n",
       "      <td>NaN</td>\n",
       "      <td>NaN</td>\n",
       "    </tr>\n",
       "    <tr>\n",
       "      <th>1140</th>\n",
       "      <td>sequence</td>\n",
       "      <td>0.502665</td>\n",
       "      <td>397.879012</td>\n",
       "      <td>read</td>\n",
       "      <td>200MB</td>\n",
       "      <td>1024KB</td>\n",
       "      <td>efs_strong200</td>\n",
       "      <td>efs</td>\n",
       "      <td>1.596428e+09</td>\n",
       "      <td>NaN</td>\n",
       "      <td>NaN</td>\n",
       "      <td>NaN</td>\n",
       "    </tr>\n",
       "    <tr>\n",
       "      <th>1141</th>\n",
       "      <td>random</td>\n",
       "      <td>0.512190</td>\n",
       "      <td>390.480364</td>\n",
       "      <td>read</td>\n",
       "      <td>200MB</td>\n",
       "      <td>1024KB</td>\n",
       "      <td>efs_strong200</td>\n",
       "      <td>efs</td>\n",
       "      <td>1.596426e+09</td>\n",
       "      <td>NaN</td>\n",
       "      <td>NaN</td>\n",
       "      <td>NaN</td>\n",
       "    </tr>\n",
       "    <tr>\n",
       "      <th>1142</th>\n",
       "      <td>sequence</td>\n",
       "      <td>0.489963</td>\n",
       "      <td>408.193984</td>\n",
       "      <td>read</td>\n",
       "      <td>200MB</td>\n",
       "      <td>1024KB</td>\n",
       "      <td>efs_strong200</td>\n",
       "      <td>efs</td>\n",
       "      <td>1.596428e+09</td>\n",
       "      <td>NaN</td>\n",
       "      <td>NaN</td>\n",
       "      <td>NaN</td>\n",
       "    </tr>\n",
       "  </tbody>\n",
       "</table>\n",
       "<p>1143 rows × 12 columns</p>\n",
       "</div>"
      ],
      "text/plain": [
       "     second_type/S  disk_read_bandwidth/N  disk_read_latency/N third_type/S  \\\n",
       "0         sequence               1.018620           196.344131         read   \n",
       "1               dd                    NaN                  NaN          NaN   \n",
       "2           random               0.502864           397.721871         read   \n",
       "3           random               0.505213           395.872552         read   \n",
       "4         sequence               0.488547           409.377037         read   \n",
       "...            ...                    ...                  ...          ...   \n",
       "1138      sequence               2.473497            80.857169         read   \n",
       "1139        random               0.504747           396.238407         read   \n",
       "1140      sequence               0.502665           397.879012         read   \n",
       "1141        random               0.512190           390.480364         read   \n",
       "1142      sequence               0.489963           408.193984         read   \n",
       "\n",
       "       fs/S    bs/S         test/S type/S          id/N  count/S   latency/N  \\\n",
       "0     200MB  1024KB  efs_strong100    efs  1.596427e+09      NaN         NaN   \n",
       "1       NaN  1024KB  efs_strong200    efs  1.596429e+09    200.0  405.402032   \n",
       "2     200MB  1024KB  efs_strong200    efs  1.596426e+09      NaN         NaN   \n",
       "3     200MB  1024KB  efs_strong200    efs  1.596426e+09      NaN         NaN   \n",
       "4     200MB  1024KB  efs_strong200    efs  1.596428e+09      NaN         NaN   \n",
       "...     ...     ...            ...    ...           ...      ...         ...   \n",
       "1138  200MB  1024KB   efs_strong50    efs  1.596427e+09      NaN         NaN   \n",
       "1139  200MB  1024KB  efs_strong200    efs  1.596426e+09      NaN         NaN   \n",
       "1140  200MB  1024KB  efs_strong200    efs  1.596428e+09      NaN         NaN   \n",
       "1141  200MB  1024KB  efs_strong200    efs  1.596426e+09      NaN         NaN   \n",
       "1142  200MB  1024KB  efs_strong200    efs  1.596428e+09      NaN         NaN   \n",
       "\n",
       "                                               result/S  \n",
       "0                                                   NaN  \n",
       "1     209715200 bytes (210 MB) copied, 405.34 s, 517...  \n",
       "2                                                   NaN  \n",
       "3                                                   NaN  \n",
       "4                                                   NaN  \n",
       "...                                                 ...  \n",
       "1138                                                NaN  \n",
       "1139                                                NaN  \n",
       "1140                                                NaN  \n",
       "1141                                                NaN  \n",
       "1142                                                NaN  \n",
       "\n",
       "[1143 rows x 12 columns]"
      ]
     },
     "execution_count": 263,
     "metadata": {},
     "output_type": "execute_result"
    }
   ],
   "source": [
    "df"
   ]
  },
  {
   "cell_type": "code",
   "execution_count": 208,
   "metadata": {},
   "outputs": [],
   "source": []
  },
  {
   "cell_type": "code",
   "execution_count": 264,
   "metadata": {},
   "outputs": [],
   "source": [
    "df_ran = df.copy()\n",
    "df_seq = df.copy()\n",
    "df_dd = df.copy()\n",
    "\n",
    "df_ran = df_ran[df_ran['second_type/S'].isin(['random'])]\n",
    "df_seq = df_seq[df_seq['second_type/S'].isin(['sequence'])]\n",
    "df_dd = df_dd[df_dd['second_type/S'].isin(['dd'])]\n",
    "\n",
    "concurrency = ['efs_strong1',\n",
    "             'efs_strong10',\n",
    "             'efs_strong20',\n",
    "             'efs_strong50',\n",
    "             'efs_strong100',\n",
    "             'efs_strong200']"
   ]
  },
  {
   "cell_type": "code",
   "execution_count": 274,
   "metadata": {},
   "outputs": [
    {
     "name": "stdout",
     "output_type": "stream",
     "text": [
      "[[ 0.          0.        ]\n",
      " [ 0.20382953  0.19883633]\n",
      " [ 1.50023932  1.19671493]\n",
      " [ 2.25999885  2.42270584]\n",
      " [28.56542082 21.57593421]\n",
      " [ 7.45233068  2.50771013]]\n",
      "[3.423007249832153, 2.8418091643940318, 34.676311540603635, 87.5743313954801, 181.19112777218376, 400.0398079800606]\n",
      "[[ 0.          0.        ]\n",
      " [ 2.70844902  1.98020731]\n",
      " [ 3.67174296  1.58960481]\n",
      " [13.68731653  3.60014666]\n",
      " [51.441895   25.66129327]\n",
      " [10.62343067  4.76121932]]\n",
      "[[ 0.          0.        ]\n",
      " [ 0.45193116  0.80772599]\n",
      " [ 2.16799551  0.78074449]\n",
      " [ 4.93565688  1.54746047]\n",
      " [25.93065483 27.2478916 ]\n",
      " [33.82191953 11.39363137]]\n"
     ]
    }
   ],
   "source": [
    "df_ran = df_512_2.copy()\n",
    "df_seq = df_512_2.copy()\n",
    "df_dd = df_512_2.copy()\n",
    "\n",
    "file_size = 200\n",
    "df_ran = df_ran[df_ran['second_type/S'].isin(['random'])]\n",
    "df_seq = df_seq[df_seq['second_type/S'].isin(['sequence'])]\n",
    "df_dd = df_dd[df_dd['second_type/S'].isin(['dd'])]\n",
    "\n",
    "concurrency = ['efs_strong1',\n",
    "             'efs_strong10',\n",
    "             'efs_strong20',\n",
    "             'efs_strong50',\n",
    "             'efs_strong100',\n",
    "             'efs_strong200']\n",
    "\n",
    "ran_latency = []\n",
    "ran_bw = []\n",
    "ran_err = []\n",
    "for ran in concurrency:\n",
    "    df_col = df_ran[df_ran['test/S'].isin([ran])]\n",
    "    avg_latency = df_col['disk_read_latency/N'].mean()\n",
    "    avg_bandwidth = df_col['disk_read_bandwidth/N'].mean()\n",
    "    ran_latency.append(avg_latency)\n",
    "    ran_bw.append(avg_bandwidth)\n",
    "    ran_err.append((avg_latency - df_col['disk_read_latency/N'].min(),df_col['disk_read_latency/N'].max() - avg_latency)) \n",
    "    \n",
    "error_ran = np.array(ran_err)\n",
    "print(error_ran)\n",
    "\n",
    "seq_latency = []\n",
    "seq_bw = []\n",
    "seq_err = []\n",
    "for seq in concurrency:\n",
    "    df_col = df_seq[df_seq['test/S'].isin([seq])]\n",
    "    avg_latency = df_col['disk_read_latency/N'].mean()\n",
    "    avg_bandwidth = df_col['disk_read_bandwidth/N'].mean()\n",
    "    seq_latency.append(avg_latency)\n",
    "    seq_bw.append(avg_bandwidth)\n",
    "    seq_err.append((avg_latency - df_col['disk_read_latency/N'].min(),df_col['disk_read_latency/N'].max() - avg_latency)) \n",
    "print(seq_latency)\n",
    "error_seq = np.array(seq_err)\n",
    "print(error_seq)\n",
    "\n",
    "dd_latency = []\n",
    "dd_bw = []\n",
    "dd_err = []\n",
    "for d in concurrency:\n",
    "    df_col = df_dd[df_dd['test/S'].isin([d])]\n",
    "    avg_latency = df_col['latency/N'].mean()\n",
    "    avg_bandwidth = df_col['disk_read_bandwidth/N'].mean()\n",
    "    dd_latency.append(avg_latency)\n",
    "    dd_bw.append(file_size/avg_latency)\n",
    "    dd_err.append((avg_latency - df_col['latency/N'].min(),df_col['latency/N'].max() - avg_latency)) \n",
    "    \n",
    "error_dd = np.array(dd_err)\n",
    "print(error_dd)\n"
   ]
  },
  {
   "cell_type": "code",
   "execution_count": 272,
   "metadata": {},
   "outputs": [
    {
     "name": "stdout",
     "output_type": "stream",
     "text": [
      "[[ 0.          0.        ]\n",
      " [13.0884398   3.43475499]\n",
      " [ 0.82432446  1.03548136]\n",
      " [ 1.72285857  1.38407168]\n",
      " [23.81506001 27.90635026]\n",
      " [ 5.37128033  2.30118929]]\n",
      "[3.266650676727296, 2.8843382000923157, 34.797430872917175, 85.60457009792327, 198.12374337995894, 402.59887076616286]\n",
      "[[  0.           0.        ]\n",
      " [  0.43072826   0.5408079 ]\n",
      " [  3.50161135   2.31662285]\n",
      " [ 14.50867767   4.44088822]\n",
      " [ 66.37769255  28.50361267]\n",
      " [402.45436932   6.93393325]]\n",
      "[[ 0.          0.        ]\n",
      " [ 2.26248202  0.82557073]\n",
      " [ 1.30208389  1.15441164]\n",
      " [ 3.20209714  1.76965765]\n",
      " [25.64969621 25.04342236]\n",
      " [10.99026918  6.51249076]]\n"
     ]
    }
   ],
   "source": [
    "df_ran = df_2048_2.copy()\n",
    "df_seq = df_2048_2.copy()\n",
    "df_dd = df_2048_2.copy()\n",
    "\n",
    "df_ran = df_ran[df_ran['second_type/S'].isin(['random'])]\n",
    "df_seq = df_seq[df_seq['second_type/S'].isin(['sequence'])]\n",
    "df_dd = df_dd[df_dd['second_type/S'].isin(['dd'])]\n",
    "\n",
    "concurrency = ['efs_strong1',\n",
    "             'efs_strong10',\n",
    "             'efs_strong20',\n",
    "             'efs_strong50',\n",
    "             'efs_strong100',\n",
    "             'efs_strong200']\n",
    "concurrency_num = ['1','10','20','50','100','200']\n",
    "ran_latency = []\n",
    "ran_err = []\n",
    "for ran in concurrency:\n",
    "    df_col = df_ran[df_ran['test/S'].isin([ran])]\n",
    "    avg_latency = df_col['disk_read_latency/N'].mean()\n",
    "    avg_bandwidth = df_col['disk_read_bandwidth/N'].mean()\n",
    "    ran_latency.append(avg_latency)\n",
    "    ran_err.append((avg_latency - df_col['disk_read_latency/N'].min(),df_col['disk_read_latency/N'].max() - avg_latency)) \n",
    "    \n",
    "error_ran = np.array(ran_err)\n",
    "print(error_ran)\n",
    "\n",
    "seq_latency = []\n",
    "seq_err = []\n",
    "for seq in concurrency:\n",
    "    df_col = df_seq[df_seq['test/S'].isin([seq])]\n",
    "    avg_latency = df_col['disk_read_latency/N'].mean()\n",
    "    avg_bandwidth = df_col['disk_read_bandwidth/N'].mean()\n",
    "    seq_latency.append(avg_latency)\n",
    "    seq_err.append((avg_latency - df_col['disk_read_latency/N'].min(),df_col['disk_read_latency/N'].max() - avg_latency)) \n",
    "print(seq_latency)\n",
    "error_seq = np.array(seq_err)\n",
    "print(error_seq)\n",
    "\n",
    "dd_latency = []\n",
    "dd_err = []\n",
    "for d in concurrency:\n",
    "    df_col = df_dd[df_dd['test/S'].isin([d])]\n",
    "    avg_latency = df_col['latency/N'].mean()\n",
    "    dd_latency.append(avg_latency)\n",
    "    dd_err.append((avg_latency - df_col['latency/N'].min(),df_col['latency/N'].max() - avg_latency)) \n",
    "    \n",
    "error_dd = np.array(dd_err)\n",
    "print(error_dd)\n"
   ]
  },
  {
   "cell_type": "code",
   "execution_count": 275,
   "metadata": {},
   "outputs": [
    {
     "name": "stdout",
     "output_type": "stream",
     "text": [
      "[52.01146004460211, 10.860569223043685, 5.64186814882023, 2.257987031070644, 1.02490326361768, 0.49180675171685295]\n",
      "[58.428155537738625, 197.36146600386456, 5.776106222664471, 2.2893115928175884, 1.111644093684757, 0.4999912873264299]\n",
      "[72.51407473283768, 17.86903297507918, 5.5571729586569525, 2.225014485628602, 1.0559428216706046, 0.4503322889500294]\n"
     ]
    }
   ],
   "source": [
    "print(ran_bw)\n",
    "print(seq_bw)\n",
    "print(dd_bw)\n",
    "\n",
    "fig, axes = plt.subplots(1,3,figsize=(10,7))\n",
    "\n",
    "axes[0] = plt.subplot(1,3,1)\n",
    "axes[1] = plt.subplot(1,3,2)\n",
    "axes[2] = plt.subplot(1,3,3)\n",
    "axes[0].bar(concurrency_num,ran_bw)\n",
    "axes[0].set_xlabel('random read',fontsize=15)\n",
    "axes[1].bar(concurrency_num,seq_latency,yerr=error_seq.T)\n",
    "axes[1].set_xlabel('sequence read',fontsize=15)\n",
    "print(error_seq)\n",
    "axes[2].bar(concurrency_num,dd_latency,yerr=error_dd.T)\n",
    "axes[2].set_xlabel('dd',fontsize=15)\n",
    "axes[0].set_ylabel('Latency',fontsize=30)\n",
    "fig.suptitle('Lambda:512MB',fontsize=30)"
   ]
  },
  {
   "cell_type": "code",
   "execution_count": null,
   "metadata": {},
   "outputs": [],
   "source": []
  },
  {
   "cell_type": "code",
   "execution_count": null,
   "metadata": {},
   "outputs": [],
   "source": []
  },
  {
   "cell_type": "code",
   "execution_count": 269,
   "metadata": {},
   "outputs": [
    {
     "name": "stdout",
     "output_type": "stream",
     "text": [
      "[[ 0.          0.        ]\n",
      " [ 2.70844902  1.98020731]\n",
      " [ 3.67174296  1.58960481]\n",
      " [13.68731653  3.60014666]\n",
      " [51.441895   25.66129327]\n",
      " [10.62343067  4.76121932]]\n"
     ]
    },
    {
     "data": {
      "text/plain": [
       "Text(0.5, 0.98, 'Lambda:512MB')"
      ]
     },
     "execution_count": 269,
     "metadata": {},
     "output_type": "execute_result"
    },
    {
     "data": {
      "image/png": "[encoded data removed]",
      "text/plain": [
       "<Figure size 720x504 with 3 Axes>"
      ]
     },
     "metadata": {
      "needs_background": "light"
     },
     "output_type": "display_data"
    }
   ],
   "source": [
    "fig, axes = plt.subplots(1,3,figsize=(10,7))\n",
    "\n",
    "axes[0] = plt.subplot(1,3,1)\n",
    "axes[1] = plt.subplot(1,3,2)\n",
    "axes[2] = plt.subplot(1,3,3)\n",
    "axes[0].bar(concurrency_num,ran_bw)\n",
    "axes[0].set_xlabel('random read',fontsize=15)\n",
    "axes[1].bar(concurrency_num,seq_latency,yerr=error_seq.T)\n",
    "axes[1].set_xlabel('sequence read',fontsize=15)\n",
    "print(error_seq)\n",
    "axes[2].bar(concurrency_num,dd_latency,yerr=error_dd.T)\n",
    "axes[2].set_xlabel('dd',fontsize=15)\n",
    "axes[0].set_ylabel('Latency',fontsize=30)\n",
    "fig.suptitle('Lambda:512MB',fontsize=30)"
   ]
  },
  {
   "cell_type": "code",
   "execution_count": 273,
   "metadata": {},
   "outputs": [
    {
     "data": {
      "text/plain": [
       "Text(0.5, 0.98, 'Lambda:2048MB')"
      ]
     },
     "execution_count": 273,
     "metadata": {},
     "output_type": "execute_result"
    },
    {
     "data": {
      "image/png": "[encoded data removed]",
      "text/plain": [
       "<Figure size 720x504 with 3 Axes>"
      ]
     },
     "metadata": {
      "needs_background": "light"
     },
     "output_type": "display_data"
    }
   ],
   "source": [
    "fig, axes = plt.subplots(1,3,figsize=(10,7))\n",
    "\n",
    "axes[0] = plt.subplot(1,3,1)\n",
    "axes[1] = plt.subplot(1,3,2)\n",
    "axes[2] = plt.subplot(1,3,3)\n",
    "axes[0].bar(concurrency_num,ran_bw)\n",
    "axes[0].set_xlabel('random read',fontsize=15)\n",
    "axes[1].bar(concurrency_num,seq_latency,yerr=error_seq.T)\n",
    "axes[1].set_xlabel('sequence read',fontsize=15)\n",
    "print(error_seq)\n",
    "axes[2].bar(concurrency_num,dd_latency,yerr=error_dd.T)\n",
    "axes[2].set_xlabel('dd',fontsize=15)\n",
    "axes[0].set_ylabel('Latency',fontsize=30)\n",
    "fig.suptitle('Lambda:2048MB',fontsize=30)"
   ]
  },
  {
   "cell_type": "code",
   "execution_count": 271,
   "metadata": {},
   "outputs": [
    {
     "data": {
      "text/plain": [
       "Text(0.5, 0.98, 'Lambda:2048MB')"
      ]
     },
     "execution_count": 271,
     "metadata": {},
     "output_type": "execute_result"
    },
    {
     "data": {
      "image/png": "[encoded data removed]",
      "text/plain": [
       "<Figure size 720x504 with 3 Axes>"
      ]
     },
     "metadata": {
      "needs_background": "light"
     },
     "output_type": "display_data"
    }
   ],
   "source": [
    "fig, axes = plt.subplots(1,3,figsize=(10,7))\n",
    "\n",
    "axes[0] = plt.subplot(1,3,1)\n",
    "axes[1] = plt.subplot(1,3,2)\n",
    "axes[2] = plt.subplot(1,3,3)\n",
    "axes[0].bar(concurrency_num,ran_bw)\n",
    "axes[0].set_xlabel('random read',fontsize=15)\n",
    "axes[1].bar(concurrency_num,seq_latency,yerr=error_seq.T)\n",
    "axes[1].set_xlabel('sequence read',fontsize=15)\n",
    "print(error_seq)\n",
    "axes[2].bar(concurrency_num,dd_latency,yerr=error_dd.T)\n",
    "axes[2].set_xlabel('dd',fontsize=15)\n",
    "axes[0].set_ylabel('Latency',fontsize=30)\n",
    "fig.suptitle('Lambda:2048MB',fontsize=30)"
   ]
  },
  {
   "cell_type": "code",
   "execution_count": 214,
   "metadata": {},
   "outputs": [
    {
     "name": "stdout",
     "output_type": "stream",
     "text": [
      "[[ 0.          2.03595959  2.14064681  4.44443378 23.78656668  7.74800163]\n",
      " [ 0.          1.35346021  1.11972058  2.52902213 23.00265341  4.25281901]]\n"
     ]
    },
    {
     "data": {
      "image/png": "[encoded data removed]",
      "text/plain": [
       "<Figure size 432x288 with 1 Axes>"
      ]
     },
     "metadata": {
      "needs_background": "light"
     },
     "output_type": "display_data"
    }
   ],
   "source": [
    "plt.bar(['1','10','20','50','100','200'],\n",
    "       dd_latency\n",
    "        ,yerr=error_dd.T)\n",
    "print(error_dd.T)"
   ]
  },
  {
   "cell_type": "code",
   "execution_count": null,
   "metadata": {},
   "outputs": [],
   "source": []
  }
 ],
 "metadata": {
  "kernelspec": {
   "display_name": "Python 3",
   "language": "python",
   "name": "python3"
  },
  "language_info": {
   "codemirror_mode": {
    "name": "ipython",
    "version": 3
   },
   "file_extension": ".py",
   "mimetype": "text/x-python",
   "name": "python",
   "nbconvert_exporter": "python",
   "pygments_lexer": "ipython3",
   "version": "3.7.1"
  }
 },
 "nbformat": 4,
 "nbformat_minor": 2
}
