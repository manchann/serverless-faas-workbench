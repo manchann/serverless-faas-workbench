{
 "cells": [
  {
   "cell_type": "code",
   "execution_count": 4,
   "metadata": {},
   "outputs": [],
   "source": [
    "import pandas as pd\n",
    "import numpy as np\n",
    "import matplotlib.pyplot as plt"
   ]
  },
  {
   "cell_type": "code",
   "execution_count": 294,
   "metadata": {
    "pycharm": {
     "name": "#%%\n"
    },
    "scrolled": true
   },
   "outputs": [],
   "source": [
    "df_2048 = pd.read_csv('efs-scalability-2048.csv')\n",
    "df_2048_2 = pd.read_csv('efs-scalability-2048-2.csv')\n",
    "df_512 = pd.read_csv('efs-scalability-512.csv')\n",
    "df_512_2 = pd.read_csv('efs-scalability-512-2.csv')"
   ]
  },
  {
   "cell_type": "code",
   "execution_count": 295,
   "metadata": {
    "scrolled": true
   },
   "outputs": [
    {
     "data": {
      "text/html": [
       "<div>\n",
       "<style scoped>\n",
       "    .dataframe tbody tr th:only-of-type {\n",
       "        vertical-align: middle;\n",
       "    }\n",
       "\n",
       "    .dataframe tbody tr th {\n",
       "        vertical-align: top;\n",
       "    }\n",
       "\n",
       "    .dataframe thead th {\n",
       "        text-align: right;\n",
       "    }\n",
       "</style>\n",
       "<table border=\"1\" class=\"dataframe\">\n",
       "  <thead>\n",
       "    <tr style=\"text-align: right;\">\n",
       "      <th></th>\n",
       "      <th>second_type/S</th>\n",
       "      <th>disk_read_bandwidth/N</th>\n",
       "      <th>disk_read_latency/N</th>\n",
       "      <th>third_type/S</th>\n",
       "      <th>fs/S</th>\n",
       "      <th>bs/S</th>\n",
       "      <th>test/S</th>\n",
       "      <th>type/S</th>\n",
       "      <th>id/N</th>\n",
       "      <th>count/S</th>\n",
       "      <th>latency/N</th>\n",
       "      <th>result/S</th>\n",
       "    </tr>\n",
       "  </thead>\n",
       "  <tbody>\n",
       "    <tr>\n",
       "      <th>0</th>\n",
       "      <td>sequence</td>\n",
       "      <td>1.018620</td>\n",
       "      <td>196.344131</td>\n",
       "      <td>read</td>\n",
       "      <td>200MB</td>\n",
       "      <td>1024KB</td>\n",
       "      <td>efs_strong100</td>\n",
       "      <td>efs</td>\n",
       "      <td>1.596427e+09</td>\n",
       "      <td>NaN</td>\n",
       "      <td>NaN</td>\n",
       "      <td>NaN</td>\n",
       "    </tr>\n",
       "    <tr>\n",
       "      <th>1</th>\n",
       "      <td>dd</td>\n",
       "      <td>NaN</td>\n",
       "      <td>NaN</td>\n",
       "      <td>NaN</td>\n",
       "      <td>NaN</td>\n",
       "      <td>1024KB</td>\n",
       "      <td>efs_strong200</td>\n",
       "      <td>efs</td>\n",
       "      <td>1.596429e+09</td>\n",
       "      <td>200.0</td>\n",
       "      <td>405.402032</td>\n",
       "      <td>209715200 bytes (210 MB) copied, 405.34 s, 517...</td>\n",
       "    </tr>\n",
       "    <tr>\n",
       "      <th>2</th>\n",
       "      <td>random</td>\n",
       "      <td>0.502864</td>\n",
       "      <td>397.721871</td>\n",
       "      <td>read</td>\n",
       "      <td>200MB</td>\n",
       "      <td>1024KB</td>\n",
       "      <td>efs_strong200</td>\n",
       "      <td>efs</td>\n",
       "      <td>1.596426e+09</td>\n",
       "      <td>NaN</td>\n",
       "      <td>NaN</td>\n",
       "      <td>NaN</td>\n",
       "    </tr>\n",
       "    <tr>\n",
       "      <th>3</th>\n",
       "      <td>random</td>\n",
       "      <td>0.505213</td>\n",
       "      <td>395.872552</td>\n",
       "      <td>read</td>\n",
       "      <td>200MB</td>\n",
       "      <td>1024KB</td>\n",
       "      <td>efs_strong200</td>\n",
       "      <td>efs</td>\n",
       "      <td>1.596426e+09</td>\n",
       "      <td>NaN</td>\n",
       "      <td>NaN</td>\n",
       "      <td>NaN</td>\n",
       "    </tr>\n",
       "    <tr>\n",
       "      <th>4</th>\n",
       "      <td>sequence</td>\n",
       "      <td>0.488547</td>\n",
       "      <td>409.377037</td>\n",
       "      <td>read</td>\n",
       "      <td>200MB</td>\n",
       "      <td>1024KB</td>\n",
       "      <td>efs_strong200</td>\n",
       "      <td>efs</td>\n",
       "      <td>1.596428e+09</td>\n",
       "      <td>NaN</td>\n",
       "      <td>NaN</td>\n",
       "      <td>NaN</td>\n",
       "    </tr>\n",
       "    <tr>\n",
       "      <th>...</th>\n",
       "      <td>...</td>\n",
       "      <td>...</td>\n",
       "      <td>...</td>\n",
       "      <td>...</td>\n",
       "      <td>...</td>\n",
       "      <td>...</td>\n",
       "      <td>...</td>\n",
       "      <td>...</td>\n",
       "      <td>...</td>\n",
       "      <td>...</td>\n",
       "      <td>...</td>\n",
       "      <td>...</td>\n",
       "    </tr>\n",
       "    <tr>\n",
       "      <th>1138</th>\n",
       "      <td>sequence</td>\n",
       "      <td>2.473497</td>\n",
       "      <td>80.857169</td>\n",
       "      <td>read</td>\n",
       "      <td>200MB</td>\n",
       "      <td>1024KB</td>\n",
       "      <td>efs_strong50</td>\n",
       "      <td>efs</td>\n",
       "      <td>1.596427e+09</td>\n",
       "      <td>NaN</td>\n",
       "      <td>NaN</td>\n",
       "      <td>NaN</td>\n",
       "    </tr>\n",
       "    <tr>\n",
       "      <th>1139</th>\n",
       "      <td>random</td>\n",
       "      <td>0.504747</td>\n",
       "      <td>396.238407</td>\n",
       "      <td>read</td>\n",
       "      <td>200MB</td>\n",
       "      <td>1024KB</td>\n",
       "      <td>efs_strong200</td>\n",
       "      <td>efs</td>\n",
       "      <td>1.596426e+09</td>\n",
       "      <td>NaN</td>\n",
       "      <td>NaN</td>\n",
       "      <td>NaN</td>\n",
       "    </tr>\n",
       "    <tr>\n",
       "      <th>1140</th>\n",
       "      <td>sequence</td>\n",
       "      <td>0.502665</td>\n",
       "      <td>397.879012</td>\n",
       "      <td>read</td>\n",
       "      <td>200MB</td>\n",
       "      <td>1024KB</td>\n",
       "      <td>efs_strong200</td>\n",
       "      <td>efs</td>\n",
       "      <td>1.596428e+09</td>\n",
       "      <td>NaN</td>\n",
       "      <td>NaN</td>\n",
       "      <td>NaN</td>\n",
       "    </tr>\n",
       "    <tr>\n",
       "      <th>1141</th>\n",
       "      <td>random</td>\n",
       "      <td>0.512190</td>\n",
       "      <td>390.480364</td>\n",
       "      <td>read</td>\n",
       "      <td>200MB</td>\n",
       "      <td>1024KB</td>\n",
       "      <td>efs_strong200</td>\n",
       "      <td>efs</td>\n",
       "      <td>1.596426e+09</td>\n",
       "      <td>NaN</td>\n",
       "      <td>NaN</td>\n",
       "      <td>NaN</td>\n",
       "    </tr>\n",
       "    <tr>\n",
       "      <th>1142</th>\n",
       "      <td>sequence</td>\n",
       "      <td>0.489963</td>\n",
       "      <td>408.193984</td>\n",
       "      <td>read</td>\n",
       "      <td>200MB</td>\n",
       "      <td>1024KB</td>\n",
       "      <td>efs_strong200</td>\n",
       "      <td>efs</td>\n",
       "      <td>1.596428e+09</td>\n",
       "      <td>NaN</td>\n",
       "      <td>NaN</td>\n",
       "      <td>NaN</td>\n",
       "    </tr>\n",
       "  </tbody>\n",
       "</table>\n",
       "<p>1143 rows × 12 columns</p>\n",
       "</div>"
      ],
      "text/plain": [
       "     second_type/S  disk_read_bandwidth/N  disk_read_latency/N third_type/S  \\\n",
       "0         sequence               1.018620           196.344131         read   \n",
       "1               dd                    NaN                  NaN          NaN   \n",
       "2           random               0.502864           397.721871         read   \n",
       "3           random               0.505213           395.872552         read   \n",
       "4         sequence               0.488547           409.377037         read   \n",
       "...            ...                    ...                  ...          ...   \n",
       "1138      sequence               2.473497            80.857169         read   \n",
       "1139        random               0.504747           396.238407         read   \n",
       "1140      sequence               0.502665           397.879012         read   \n",
       "1141        random               0.512190           390.480364         read   \n",
       "1142      sequence               0.489963           408.193984         read   \n",
       "\n",
       "       fs/S    bs/S         test/S type/S          id/N  count/S   latency/N  \\\n",
       "0     200MB  1024KB  efs_strong100    efs  1.596427e+09      NaN         NaN   \n",
       "1       NaN  1024KB  efs_strong200    efs  1.596429e+09    200.0  405.402032   \n",
       "2     200MB  1024KB  efs_strong200    efs  1.596426e+09      NaN         NaN   \n",
       "3     200MB  1024KB  efs_strong200    efs  1.596426e+09      NaN         NaN   \n",
       "4     200MB  1024KB  efs_strong200    efs  1.596428e+09      NaN         NaN   \n",
       "...     ...     ...            ...    ...           ...      ...         ...   \n",
       "1138  200MB  1024KB   efs_strong50    efs  1.596427e+09      NaN         NaN   \n",
       "1139  200MB  1024KB  efs_strong200    efs  1.596426e+09      NaN         NaN   \n",
       "1140  200MB  1024KB  efs_strong200    efs  1.596428e+09      NaN         NaN   \n",
       "1141  200MB  1024KB  efs_strong200    efs  1.596426e+09      NaN         NaN   \n",
       "1142  200MB  1024KB  efs_strong200    efs  1.596428e+09      NaN         NaN   \n",
       "\n",
       "                                               result/S  \n",
       "0                                                   NaN  \n",
       "1     209715200 bytes (210 MB) copied, 405.34 s, 517...  \n",
       "2                                                   NaN  \n",
       "3                                                   NaN  \n",
       "4                                                   NaN  \n",
       "...                                                 ...  \n",
       "1138                                                NaN  \n",
       "1139                                                NaN  \n",
       "1140                                                NaN  \n",
       "1141                                                NaN  \n",
       "1142                                                NaN  \n",
       "\n",
       "[1143 rows x 12 columns]"
      ]
     },
     "execution_count": 295,
     "metadata": {},
     "output_type": "execute_result"
    }
   ],
   "source": [
    "df"
   ]
  },
  {
   "cell_type": "code",
   "execution_count": 5,
   "metadata": {},
   "outputs": [],
   "source": [
    "aug_512 = pd.read_csv('aug-512.csv')\n",
    "aug_2048 = pd.read_csv('aug-2048.csv')"
   ]
  },
  {
   "cell_type": "code",
   "execution_count": 3,
   "metadata": {},
   "outputs": [
    {
     "ename": "NameError",
     "evalue": "name 'df' is not defined",
     "output_type": "error",
     "traceback": [
      "\u001b[0;31m---------------------------------------------------------------------------\u001b[0m",
      "\u001b[0;31mNameError\u001b[0m                                 Traceback (most recent call last)",
      "\u001b[0;32m<ipython-input-3-188b9abfc6ae>\u001b[0m in \u001b[0;36m<module>\u001b[0;34m\u001b[0m\n\u001b[0;32m----> 1\u001b[0;31m \u001b[0mdf_ran\u001b[0m \u001b[0;34m=\u001b[0m \u001b[0mdf\u001b[0m\u001b[0;34m.\u001b[0m\u001b[0mcopy\u001b[0m\u001b[0;34m(\u001b[0m\u001b[0;34m)\u001b[0m\u001b[0;34m\u001b[0m\u001b[0;34m\u001b[0m\u001b[0m\n\u001b[0m\u001b[1;32m      2\u001b[0m \u001b[0mdf_seq\u001b[0m \u001b[0;34m=\u001b[0m \u001b[0mdf\u001b[0m\u001b[0;34m.\u001b[0m\u001b[0mcopy\u001b[0m\u001b[0;34m(\u001b[0m\u001b[0;34m)\u001b[0m\u001b[0;34m\u001b[0m\u001b[0;34m\u001b[0m\u001b[0m\n\u001b[1;32m      3\u001b[0m \u001b[0mdf_dd\u001b[0m \u001b[0;34m=\u001b[0m \u001b[0mdf\u001b[0m\u001b[0;34m.\u001b[0m\u001b[0mcopy\u001b[0m\u001b[0;34m(\u001b[0m\u001b[0;34m)\u001b[0m\u001b[0;34m\u001b[0m\u001b[0;34m\u001b[0m\u001b[0m\n\u001b[1;32m      4\u001b[0m \u001b[0;34m\u001b[0m\u001b[0m\n\u001b[1;32m      5\u001b[0m \u001b[0mdf_ran\u001b[0m \u001b[0;34m=\u001b[0m \u001b[0mdf_ran\u001b[0m\u001b[0;34m[\u001b[0m\u001b[0mdf_ran\u001b[0m\u001b[0;34m[\u001b[0m\u001b[0;34m'second_type/S'\u001b[0m\u001b[0;34m]\u001b[0m\u001b[0;34m.\u001b[0m\u001b[0misin\u001b[0m\u001b[0;34m(\u001b[0m\u001b[0;34m[\u001b[0m\u001b[0;34m'random'\u001b[0m\u001b[0;34m]\u001b[0m\u001b[0;34m)\u001b[0m\u001b[0;34m]\u001b[0m\u001b[0;34m\u001b[0m\u001b[0;34m\u001b[0m\u001b[0m\n",
      "\u001b[0;31mNameError\u001b[0m: name 'df' is not defined"
     ]
    }
   ],
   "source": [
    "df_ran = df.copy()\n",
    "df_seq = df.copy()\n",
    "df_dd = df.copy()\n",
    "\n",
    "df_ran = df_ran[df_ran['second_type/S'].isin(['random'])]\n",
    "df_seq = df_seq[df_seq['second_type/S'].isin(['sequence'])]\n",
    "df_dd = df_dd[df_dd['second_type/S'].isin(['dd'])]\n",
    "\n",
    "concurrency = ['efs_strong1',\n",
    "             'efs_strong10',\n",
    "             'efs_strong20',\n",
    "             'efs_strong50',\n",
    "             'efs_strong100',\n",
    "             'efs_strong200']"
   ]
  },
  {
   "cell_type": "code",
   "execution_count": 325,
   "metadata": {},
   "outputs": [
    {
     "name": "stdout",
     "output_type": "stream",
     "text": [
      "[[0.         0.        ]\n",
      " [1.32700891 0.62760958]\n",
      " [0.08974374 0.38447258]\n",
      " [0.02459715 0.14233239]\n",
      " [0.1401516  0.16014894]\n",
      " [0.00609201 0.04229446]]\n"
     ]
    }
   ],
   "source": [
    "df_ran = df_512_2.copy()\n",
    "df_seq = df_512_2.copy()\n",
    "df_dd = df_512_2.copy()\n",
    "# make graph\n",
    "file_size = 200\n",
    "df_ran = df_ran[df_ran['second_type/S'].isin(['random'])]\n",
    "df_seq = df_seq[df_seq['second_type/S'].isin(['sequence'])]\n",
    "df_dd = df_dd[df_dd['second_type/S'].isin(['dd'])]\n",
    "\n",
    "concurrency = ['efs_strong1',\n",
    "             'efs_strong10',\n",
    "             'efs_strong20',\n",
    "             'efs_strong50',\n",
    "             'efs_strong100',\n",
    "             'efs_strong200']\n",
    "concurrency_num = ['1','10','20','50','100','200']\n",
    "ran_latency = []\n",
    "ran_bw = []\n",
    "ran_lat_err = []\n",
    "ran_bw_err = []\n",
    "for ran in concurrency:\n",
    "    df_col = df_ran[df_ran['test/S'].isin([ran])]\n",
    "    avg_latency = df_col['disk_read_latency/N'].median()\n",
    "    avg_bandwidth = df_col['disk_read_bandwidth/N'].median()\n",
    "    ran_latency.append(avg_latency)\n",
    "    ran_bw.append(avg_bandwidth)\n",
    "    ran_lat_err.append((avg_latency - df_col['disk_read_latency/N'].min(),df_col['disk_read_latency/N'].max() - avg_latency)) \n",
    "    ran_bw_err.append((avg_bandwidth - df_col['disk_read_bandwidth/N'].min(),df_col['disk_read_bandwidth/N'].max() - avg_bandwidth)) \n",
    "error_lat_ran = np.array(ran_lat_err)\n",
    "error_bw_ran = np.array(ran_bw_err)\n",
    "\n",
    "seq_latency = []\n",
    "seq_bw = []\n",
    "seq_lat_err = []\n",
    "seq_bw_err = []\n",
    "for seq in concurrency:\n",
    "    df_col = df_seq[df_seq['test/S'].isin([seq])]\n",
    "    avg_latency = df_col['disk_read_latency/N'].median()\n",
    "    avg_bandwidth = df_col['disk_read_bandwidth/N'].median()\n",
    "    seq_latency.append(avg_latency)\n",
    "    seq_bw.append(avg_bandwidth)\n",
    "    seq_lat_err.append((avg_latency - df_col['disk_read_latency/N'].min(),df_col['disk_read_latency/N'].max() - avg_latency)) \n",
    "    seq_bw_err.append((avg_bandwidth - df_col['disk_read_bandwidth/N'].min(),df_col['disk_read_bandwidth/N'].max() - avg_bandwidth)) \n",
    "error_lat_seq = np.array(seq_lat_err)\n",
    "error_bw_seq = np.array(seq_bw_err)\n",
    "\n",
    "dd_latency = []\n",
    "dd_bw = []\n",
    "dd_lat_err = []\n",
    "dd_bw_err = []\n",
    "for d in concurrency:\n",
    "    df_col = df_dd[df_dd['test/S'].isin([d])]\n",
    "    avg_latency = df_col['latency/N'].median()\n",
    "    avg_bandwidth = file_size / avg_latency\n",
    "    dd_latency.append(avg_latency)\n",
    "    dd_bw.append(avg_bandwidth)\n",
    "    dd_lat_err.append((avg_latency - df_col['latency/N'].min(),df_col['latency/N'].max() - avg_latency)) \n",
    "    dd_bw_err.append((avg_bandwidth - (file_size / df_col['latency/N'].max()),(file_size / df_col['latency/N'].min()) - avg_bandwidth)) \n",
    "error_lat_dd = np.array(dd_lat_err)\n",
    "error_bw_dd = np.array(dd_bw_err)\n",
    "\n",
    "print(error_bw_dd)"
   ]
  },
  {
   "cell_type": "code",
   "execution_count": 317,
   "metadata": {},
   "outputs": [
    {
     "data": {
      "text/plain": [
       "Text(0.5, 0.98, 'Lambda:512MB')"
      ]
     },
     "execution_count": 317,
     "metadata": {},
     "output_type": "execute_result"
    },
    {
     "data": {
      "image/png": "[encoded data removed]",
      "text/plain": [
       "<Figure size 720x504 with 3 Axes>"
      ]
     },
     "metadata": {
      "needs_background": "light"
     },
     "output_type": "display_data"
    }
   ],
   "source": [
    "fig, axes = plt.subplots(1,3,figsize=(10,7))\n",
    "\n",
    "axes[0] = plt.subplot(1,3,1)\n",
    "axes[1] = plt.subplot(1,3,2)\n",
    "axes[2] = plt.subplot(1,3,3)\n",
    "axes[0].bar(concurrency_num,ran_latency,yerr=error_lat_ran.T)\n",
    "axes[0].set_xlabel('random read',fontsize=15)\n",
    "axes[1].bar(concurrency_num,seq_latency,yerr=error_lat_seq.T)\n",
    "axes[1].set_xlabel('sequence read',fontsize=15)\n",
    "axes[2].bar(concurrency_num,dd_latency,yerr=error_lat_dd.T)\n",
    "axes[2].set_xlabel('dd',fontsize=15)\n",
    "axes[0].set_ylabel('Latency',fontsize=30)\n",
    "fig.suptitle('Lambda:512MB',fontsize=30)"
   ]
  },
  {
   "cell_type": "code",
   "execution_count": 341,
   "metadata": {},
   "outputs": [
    {
     "name": "stdout",
     "output_type": "stream",
     "text": [
      "[[ 0.          0.        ]\n",
      " [ 2.54811454  2.14054179]\n",
      " [ 3.89653158  1.36481619]\n",
      " [15.25089574  2.03656745]\n",
      " [53.06795883 24.03522944]\n",
      " [11.57278252  3.81186748]]\n"
     ]
    },
    {
     "data": {
      "text/plain": [
       "Text(0.5, 0.98, 'Lambda:512MB')"
      ]
     },
     "execution_count": 341,
     "metadata": {},
     "output_type": "execute_result"
    },
    {
     "data": {
      "image/png": "[encoded data removed]",
      "text/plain": [
       "<Figure size 720x504 with 3 Axes>"
      ]
     },
     "metadata": {
      "needs_background": "light"
     },
     "output_type": "display_data"
    }
   ],
   "source": [
    "fig, axes = plt.subplots(1,3,figsize=(10,7))\n",
    "axes[0] = plt.subplot(1,3,1)\n",
    "plt.ylim((0,100))\n",
    "axes[1] = plt.subplot(1,3,2)\n",
    "plt.ylim((0,100))\n",
    "axes[2] = plt.subplot(1,3,3)\n",
    "plt.ylim((0,100))\n",
    "axes[0].bar(concurrency_num,ran_bw,yerr=error_bw_ran.T)\n",
    "axes[0].set_xlabel('random read',fontsize=15)\n",
    "axes[1].bar(concurrency_num,seq_bw,yerr=error_bw_seq.T)\n",
    "axes[1].set_xlabel('sequence read',fontsize=15)\n",
    "print(error_seq)\n",
    "\n",
    "axes[2].bar(concurrency_num,dd_bw,yerr=error_bw_dd.T)\n",
    "axes[2].set_xlabel('dd',fontsize=15)\n",
    "axes[0].set_ylabel('Bandwidth',fontsize=30)\n",
    "fig.suptitle('Lambda:512MB',fontsize=30)\n"
   ]
  },
  {
   "cell_type": "code",
   "execution_count": 323,
   "metadata": {},
   "outputs": [
    {
     "name": "stdout",
     "output_type": "stream",
     "text": [
      "[[0.         0.        ]\n",
      " [0.59662988 4.72092439]\n",
      " [0.16325894 0.21414418]\n",
      " [0.03517171 0.09474928]\n",
      " [0.10986493 0.16832281]\n",
      " [0.00588535 0.01393229]]\n"
     ]
    }
   ],
   "source": [
    "df_ran = df_2048_2.copy()\n",
    "df_seq = df_2048_2.copy()\n",
    "df_dd = df_2048_2.copy()\n",
    "# make graph\n",
    "file_size = 200\n",
    "df_ran = df_ran[df_ran['second_type/S'].isin(['random'])]\n",
    "df_seq = df_seq[df_seq['second_type/S'].isin(['sequence'])]\n",
    "df_dd = df_dd[df_dd['second_type/S'].isin(['dd'])]\n",
    "\n",
    "concurrency = ['efs_strong1',\n",
    "             'efs_strong10',\n",
    "             'efs_strong20',\n",
    "             'efs_strong50',\n",
    "             'efs_strong100',\n",
    "             'efs_strong200']\n",
    "concurrency_num = ['1','10','20','50','100','200']\n",
    "ran_latency = []\n",
    "ran_bw = []\n",
    "ran_lat_err = []\n",
    "ran_bw_err = []\n",
    "for ran in concurrency:\n",
    "    df_col = df_ran[df_ran['test/S'].isin([ran])]\n",
    "    avg_latency = df_col['disk_read_latency/N'].median()\n",
    "    avg_bandwidth = df_col['disk_read_bandwidth/N'].median()\n",
    "    ran_latency.append(avg_latency)\n",
    "    ran_bw.append(avg_bandwidth)\n",
    "    ran_lat_err.append((avg_latency - df_col['disk_read_latency/N'].min(),df_col['disk_read_latency/N'].max() - avg_latency)) \n",
    "    ran_bw_err.append((avg_bandwidth - df_col['disk_read_bandwidth/N'].min(),df_col['disk_read_bandwidth/N'].max() - avg_bandwidth)) \n",
    "error_lat_ran = np.array(ran_lat_err)\n",
    "error_bw_ran = np.array(ran_bw_err)\n",
    "\n",
    "seq_latency = []\n",
    "seq_bw = []\n",
    "seq_lat_err = []\n",
    "seq_bw_err = []\n",
    "for seq in concurrency:\n",
    "    df_col = df_seq[df_seq['test/S'].isin([seq])]\n",
    "    avg_latency = df_col['disk_read_latency/N'].median()\n",
    "    avg_bandwidth = df_col['disk_read_bandwidth/N'].median()\n",
    "    seq_latency.append(avg_latency)\n",
    "    seq_bw.append(avg_bandwidth)\n",
    "    seq_lat_err.append((avg_latency - df_col['disk_read_latency/N'].min(),df_col['disk_read_latency/N'].max() - avg_latency)) \n",
    "    seq_bw_err.append((avg_bandwidth - df_col['disk_read_bandwidth/N'].min(),df_col['disk_read_bandwidth/N'].max() - avg_bandwidth)) \n",
    "error_lat_seq = np.array(seq_lat_err)\n",
    "error_bw_seq = np.array(seq_bw_err)\n",
    "\n",
    "dd_latency = []\n",
    "dd_bw = []\n",
    "dd_lat_err = []\n",
    "dd_bw_err = []\n",
    "for d in concurrency:\n",
    "    df_col = df_dd[df_dd['test/S'].isin([d])]\n",
    "    avg_latency = df_col['latency/N'].median()\n",
    "    avg_bandwidth = file_size / avg_latency\n",
    "    dd_latency.append(avg_latency)\n",
    "    dd_bw.append(avg_bandwidth)\n",
    "    dd_lat_err.append((avg_latency - df_col['latency/N'].min(),df_col['latency/N'].max() - avg_latency)) \n",
    "    dd_bw_err.append((avg_bandwidth - (file_size / df_col['latency/N'].max()),(file_size / df_col['latency/N'].min()) - avg_bandwidth)) \n",
    "error_lat_dd = np.array(dd_lat_err)\n",
    "error_bw_dd = np.array(dd_bw_err)\n",
    "\n",
    "print(error_bw_dd)"
   ]
  },
  {
   "cell_type": "code",
   "execution_count": 316,
   "metadata": {},
   "outputs": [
    {
     "name": "stdout",
     "output_type": "stream",
     "text": [
      "[[ 0.          0.        ]\n",
      " [ 2.54811454  2.14054179]\n",
      " [ 3.89653158  1.36481619]\n",
      " [15.25089574  2.03656745]\n",
      " [53.06795883 24.03522944]\n",
      " [11.57278252  3.81186748]]\n"
     ]
    },
    {
     "data": {
      "text/plain": [
       "Text(0.5, 0.98, 'Lambda:2048MB')"
      ]
     },
     "execution_count": 316,
     "metadata": {},
     "output_type": "execute_result"
    },
    {
     "data": {
      "image/png": "[encoded data removed]",
      "text/plain": [
       "<Figure size 720x504 with 3 Axes>"
      ]
     },
     "metadata": {
      "needs_background": "light"
     },
     "output_type": "display_data"
    }
   ],
   "source": [
    "fig, axes = plt.subplots(1,3,figsize=(10,7))\n",
    "\n",
    "axes[0] = plt.subplot(1,3,1)\n",
    "axes[1] = plt.subplot(1,3,2)\n",
    "axes[2] = plt.subplot(1,3,3)\n",
    "axes[0].bar(concurrency_num,ran_latency,yerr=error_lat_ran.T)\n",
    "axes[0].set_xlabel('random read',fontsize=15)\n",
    "axes[1].bar(concurrency_num,seq_latency,yerr=error_lat_seq.T)\n",
    "axes[1].set_xlabel('sequence read',fontsize=15)\n",
    "print(error_seq)\n",
    "axes[2].bar(concurrency_num,dd_latency,yerr=error_lat_dd.T)\n",
    "axes[2].set_xlabel('dd',fontsize=15)\n",
    "axes[0].set_ylabel('Latency',fontsize=30)\n",
    "fig.suptitle('Lambda:2048MB',fontsize=30)"
   ]
  },
  {
   "cell_type": "code",
   "execution_count": 324,
   "metadata": {},
   "outputs": [
    {
     "name": "stdout",
     "output_type": "stream",
     "text": [
      "[[ 0.          0.        ]\n",
      " [ 2.54811454  2.14054179]\n",
      " [ 3.89653158  1.36481619]\n",
      " [15.25089574  2.03656745]\n",
      " [53.06795883 24.03522944]\n",
      " [11.57278252  3.81186748]]\n"
     ]
    },
    {
     "data": {
      "text/plain": [
       "(0.0, 70.0)"
      ]
     },
     "execution_count": 324,
     "metadata": {},
     "output_type": "execute_result"
    },
    {
     "data": {
      "image/png": "[encoded data removed]",
      "text/plain": [
       "<Figure size 720x504 with 3 Axes>"
      ]
     },
     "metadata": {
      "needs_background": "light"
     },
     "output_type": "display_data"
    }
   ],
   "source": [
    "fig, axes = plt.subplots(1,3,figsize=(10,7))\n",
    "axes[0] = plt.subplot(1,3,1)\n",
    "plt.ylim((0,100))\n",
    "axes[1] = plt.subplot(1,3,2)\n",
    "plt.ylim((0,100))\n",
    "axes[2] = plt.subplot(1,3,3)\n",
    "plt.ylim((0,100))\n",
    "axes[0].bar(concurrency_num,ran_bw,yerr=error_bw_ran.T)\n",
    "axes[0].set_xlabel('random read',fontsize=15)\n",
    "axes[1].bar(concurrency_num,seq_bw,yerr=error_bw_seq.T)\n",
    "axes[1].set_xlabel('sequence read',fontsize=15)\n",
    "\n",
    "axes[2].bar(concurrency_num,dd_bw,yerr=error_bw_dd.T)\n",
    "axes[2].set_xlabel('dd',fontsize=15)\n",
    "axes[0].set_ylabel('Bandwidth',fontsize=30)\n",
    "fig.suptitle('Lambda:512MB',fontsize=30)\n"
   ]
  },
  {
   "cell_type": "code",
   "execution_count": 69,
   "metadata": {},
   "outputs": [],
   "source": [
    "aug_s3 = aug_512\n",
    "aug_efs = aug_512\n",
    "x_axis = ['EFS','S3']\n",
    "x_identify_axis = ['Download','Augmentation','Upload']\n",
    "\n",
    "file_size = 129\n",
    "aug_s3 = aug_s3[aug_s3['type/S'].isin(['s3'])]\n",
    "\n",
    "aug_s3 = aug_s3[aug_s3['second_type/S'].isin(['aug'])]\n",
    "dt = aug_s3['download_time/N']\n",
    "at = aug_s3['augmentation_time/N']\n",
    "ut = aug_s3['upload_time/N']\n",
    "\n",
    "dt_ret = dt.values.tolist()\n",
    "at_ret = at.values.tolist()\n",
    "ut_ret = ut.values.tolist()\n",
    "\n",
    "data_s3 = [dt_ret,at_ret,ut_ret]\n",
    "\n",
    "aug_efs = aug_efs[aug_efs['type/S'].isin(['efs'])]\n",
    "\n",
    "aug_efs = aug_efs[aug_efs['second_type/S'].isin(['aug'])]\n",
    "dt = aug_efs['download_time/N']\n",
    "at = aug_efs['augmentation_time/N']\n",
    "ut = aug_efs['upload_time/N']\n",
    "\n",
    "dt_ret = dt.values.tolist()\n",
    "at_ret = at.values.tolist()\n",
    "ut_ret = ut.values.tolist()\n",
    "\n",
    "data_efs = [dt_ret,at_ret,ut_ret]"
   ]
  },
  {
   "cell_type": "code",
   "execution_count": 70,
   "metadata": {},
   "outputs": [
    {
     "data": {
      "text/plain": [
       "Text(0.5, 0.98, 'Lambda:512MB, Count:129')"
      ]
     },
     "execution_count": 70,
     "metadata": {},
     "output_type": "execute_result"
    },
    {
     "data": {
      "image/png": "[encoded data removed]",
      "text/plain": [
       "<Figure size 720x504 with 2 Axes>"
      ]
     },
     "metadata": {
      "needs_background": "light"
     },
     "output_type": "display_data"
    }
   ],
   "source": [
    "fig, axes = plt.subplots(1,2,figsize=(10,7))\n",
    "\n",
    "axes[0] = plt.subplot(1,2,2)\n",
    "axes[0].boxplot(data_s3)\n",
    "axes[0].set_xticklabels(x_identify_axis)\n",
    "axes[0].set_xlabel('S3',fontsize=30)\n",
    "plt.ylim((0,2))\n",
    "axes[1] = plt.subplot(1,2,1)\n",
    "axes[1].boxplot(data_efs)\n",
    "axes[1].set_xticklabels(x_identify_axis)\n",
    "axes[1].set_xlabel('EFS',fontsize=30)\n",
    "plt.ylim((0,2))\n",
    "\n",
    "axes[1].set_ylabel('Excution Time',fontsize=30)\n",
    "\n",
    "fig.suptitle('Lambda:512MB, Count:129',fontsize=30)"
   ]
  },
  {
   "cell_type": "code",
   "execution_count": 71,
   "metadata": {},
   "outputs": [],
   "source": [
    "aug_s3 = aug_2048\n",
    "aug_efs = aug_2048\n",
    "x_axis = ['EFS','S3']\n",
    "x_identify_axis = ['Download','Augmentation','Upload']\n",
    "\n",
    "file_size = 129\n",
    "aug_s3 = aug_s3[aug_s3['type/S'].isin(['s3'])]\n",
    "\n",
    "aug_s3 = aug_s3[aug_s3['second_type/S'].isin(['aug'])]\n",
    "dt = aug_s3['download_time/N']\n",
    "at = aug_s3['augmentation_time/N']\n",
    "ut = aug_s3['upload_time/N']\n",
    "\n",
    "dt_ret = dt.values.tolist()\n",
    "at_ret = at.values.tolist()\n",
    "ut_ret = ut.values.tolist()\n",
    "\n",
    "data_s3 = [dt_ret,at_ret,ut_ret]\n",
    "\n",
    "aug_efs = aug_efs[aug_efs['type/S'].isin(['efs'])]\n",
    "\n",
    "aug_efs = aug_efs[aug_efs['second_type/S'].isin(['aug'])]\n",
    "dt = aug_efs['download_time/N']\n",
    "at = aug_efs['augmentation_time/N']\n",
    "ut = aug_efs['upload_time/N']\n",
    "\n",
    "dt_ret = dt.values.tolist()\n",
    "at_ret = at.values.tolist()\n",
    "ut_ret = ut.values.tolist()\n",
    "\n",
    "data_efs = [dt_ret,at_ret,ut_ret]"
   ]
  },
  {
   "cell_type": "code",
   "execution_count": 72,
   "metadata": {},
   "outputs": [
    {
     "data": {
      "text/plain": [
       "Text(0.5, 0.98, 'Lambda:2048MB, Count:129')"
      ]
     },
     "execution_count": 72,
     "metadata": {},
     "output_type": "execute_result"
    },
    {
     "data": {
      "image/png": "[encoded data removed]",
      "text/plain": [
       "<Figure size 720x504 with 2 Axes>"
      ]
     },
     "metadata": {
      "needs_background": "light"
     },
     "output_type": "display_data"
    }
   ],
   "source": [
    "fig, axes = plt.subplots(1,2,figsize=(10,7))\n",
    "\n",
    "axes[0] = plt.subplot(1,2,2)\n",
    "axes[0].boxplot(data_s3)\n",
    "axes[0].set_xticklabels(x_identify_axis)\n",
    "axes[0].set_xlabel('S3',fontsize=30)\n",
    "plt.ylim((0,2))\n",
    "axes[1] = plt.subplot(1,2,1)\n",
    "axes[1].boxplot(data_efs)\n",
    "axes[1].set_xticklabels(x_identify_axis)\n",
    "axes[1].set_xlabel('EFS',fontsize=30)\n",
    "plt.ylim((0,2))\n",
    "\n",
    "axes[1].set_ylabel('Excution Time',fontsize=30)\n",
    "\n",
    "fig.suptitle('Lambda:2048MB, Count:129',fontsize=30)"
   ]
  },
  {
   "cell_type": "code",
   "execution_count": null,
   "metadata": {},
   "outputs": [],
   "source": []
  }
 ],
 "metadata": {
  "kernelspec": {
   "display_name": "Python 3",
   "language": "python",
   "name": "python3"
  },
  "language_info": {
   "codemirror_mode": {
    "name": "ipython",
    "version": 3
   },
   "file_extension": ".py",
   "mimetype": "text/x-python",
   "name": "python",
   "nbconvert_exporter": "python",
   "pygments_lexer": "ipython3",
   "version": "3.8.5"
  },
  "pycharm": {
   "stem_cell": {
    "cell_type": "raw",
    "metadata": {
     "collapsed": false
    },
    "source": []
   }
  }
 },
 "nbformat": 4,
 "nbformat_minor": 2
}
