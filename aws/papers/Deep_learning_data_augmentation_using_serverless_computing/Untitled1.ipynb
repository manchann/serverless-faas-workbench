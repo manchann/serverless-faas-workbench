{
 "cells": [
  {
   "cell_type": "code",
   "execution_count": 1,
   "metadata": {},
   "outputs": [
    {
     "name": "stdout",
     "output_type": "stream",
     "text": [
      "총 걸린 시간: 1.0378391742706298828125\n",
      "0.6282980442047119140625\n",
      "함수 개수: 40\n"
     ]
    }
   ],
   "source": [
    "import boto3\n",
    "import matplotlib.pyplot as plt\n",
    "\n",
    "dynamodb = boto3.resource('dynamodb', region_name='ap-northeast-2')\n",
    "table = dynamodb.Table('lambda')\n",
    "\n",
    "response = table.scan()\n",
    "\n",
    "start_time = 9999999999999.0\n",
    "start_time_max = 0\n",
    "end_time = 0\n",
    "num = 0\n",
    "ret = []\n",
    "for res in response['Items']:\n",
    "    if(res['type'] == 'total'):\n",
    "        start_time = min(start_time, res['details']['start_time'])\n",
    "        start_time_max = max(start_time_max, res['details']['start_time'])\n",
    "        end_time = max(end_time, res['details']['end_time'])\n",
    "        num += 1\n",
    "\n",
    "    # print(res)\n",
    "\n",
    "print('총 걸린 시간:', end_time - start_time)\n",
    "print(start_time_max - start_time)\n",
    "print('함수 개수:', num)\n",
    "\n",
    "# test = plt.subplots()\n",
    "# test.set_title('test')\n",
    "# test.boxplot(data)"
   ]
  },
  {
   "cell_type": "code",
   "execution_count": null,
   "metadata": {},
   "outputs": [],
   "source": []
  }
 ],
 "metadata": {
  "kernelspec": {
   "display_name": "Python 3",
   "language": "python",
   "name": "python3"
  },
  "language_info": {
   "codemirror_mode": {
    "name": "ipython",
    "version": 3
   },
   "file_extension": ".py",
   "mimetype": "text/x-python",
   "name": "python",
   "nbconvert_exporter": "python",
   "pygments_lexer": "ipython3",
   "version": "3.7.7"
  }
 },
 "nbformat": 4,
 "nbformat_minor": 4
}
